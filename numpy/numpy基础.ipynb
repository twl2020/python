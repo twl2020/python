{
 "cells": [
  {
   "cell_type": "code",
   "id": "initial_id",
   "metadata": {
    "collapsed": true,
    "ExecuteTime": {
     "end_time": "2025-06-22T11:16:48.109544Z",
     "start_time": "2025-06-22T11:16:48.053908Z"
    }
   },
   "source": [
    "## numpy详解\n",
    "import numpy as np\n",
    "\n",
    "# 创建数组\n",
    "a = np.array([1, 2, 3])\n",
    "print(a)        # [1 2 3]\n",
    "\n",
    "# 数组的维度\n",
    "print(a.ndim)    # 1\n",
    "\n",
    "# 数组的形状\n",
    "print(a.shape)   # (3,)\n",
    "\n",
    "# 数组的元素个数\n",
    "print(a.size)    # 3\n",
    "\n",
    "# 数组的数据类型\n",
    "print(a.dtype)   # int32\n",
    "\n",
    "# 数组的元素类型\n",
    "print(a.dtype.type)   # <class 'numpy.int32'>\n",
    "\n",
    "# 数组的元素总和\n",
    "print(a.sum())   # 6\n",
    "\n",
    "# 数组的元素最大值\n",
    "print(a.max())   # 3\n",
    "\n",
    "# 数组的元素最小值\n",
    "print(a.min())   # 1\n",
    "\n",
    "# 数组的元素平均值\n",
    "print(a.mean())  # 2.0\n",
    "\n",
    "# 数组的元素中位数\n",
    "print(np.median(a))   # 2.0\n",
    "\n",
    "\n"
   ],
   "outputs": [
    {
     "name": "stdout",
     "output_type": "stream",
     "text": [
      "[1 2 3]\n",
      "1\n",
      "(3,)\n",
      "3\n",
      "int64\n",
      "<class 'numpy.int64'>\n",
      "6\n",
      "3\n",
      "1\n",
      "2.0\n",
      "2.0\n"
     ]
    }
   ],
   "execution_count": 2
  },
  {
   "metadata": {
    "ExecuteTime": {
     "end_time": "2025-06-22T11:21:24.883562Z",
     "start_time": "2025-06-22T11:21:24.877027Z"
    }
   },
   "cell_type": "code",
   "source": [
    "##数组运算\n",
    "\n",
    "# 创建数组\n",
    "import numpy as np\n",
    "a = np.array([1, 2, 3])\n",
    "b = np.array([4, 5, 6])\n",
    "\n",
    "# 数组的加法\n",
    "print(a + b)    # [5 7 9]\n",
    "\n",
    "# 数组的减法\n",
    "print(a - b)    # [-3 -3 -3]\n",
    "\n",
    "# 数组的乘法\n",
    "print(a * b)    # [ 4 10 18]\n",
    "\n",
    "# 数组的除法\n",
    "print(a / b)    # [0.25 0.4  0.5 ]\n",
    "\n",
    "# 数组的指数运算\n",
    "print(a ** b)   # [ 1 32 729]\n",
    "\n",
    "# 数组的矩阵乘法\n",
    "c = np.array([[1, 2], [3, 4]])\n",
    "d = np.array([[5, 6], [7, 8]])\n",
    "print(c @ d)    # [[19 22]\n",
    "                #  [43 50]]\n",
    "\n",
    "# 数组的转置\n",
    "print(a.T)      # [1 2 3]\n",
    "\n",
    "# 数组的切片\n",
    "print(a[1:])    # [2 3]\n",
    "\n",
    "# 数组的布尔运算\n",
    "print(a > 2)    # [False False  True]"
   ],
   "id": "8f0f8acfc9be0c1",
   "outputs": [
    {
     "name": "stdout",
     "output_type": "stream",
     "text": [
      "[5 7 9]\n",
      "[-3 -3 -3]\n",
      "[ 4 10 18]\n",
      "[0.25 0.4  0.5 ]\n",
      "[  1  32 729]\n",
      "[[19 22]\n",
      " [43 50]]\n",
      "[1 2 3]\n",
      "[2 3]\n",
      "[False False  True]\n"
     ]
    }
   ],
   "execution_count": 3
  }
 ],
 "metadata": {
  "kernelspec": {
   "display_name": "Python 3",
   "language": "python",
   "name": "python3"
  },
  "language_info": {
   "codemirror_mode": {
    "name": "ipython",
    "version": 2
   },
   "file_extension": ".py",
   "mimetype": "text/x-python",
   "name": "python",
   "nbconvert_exporter": "python",
   "pygments_lexer": "ipython2",
   "version": "2.7.6"
  }
 },
 "nbformat": 4,
 "nbformat_minor": 5
}
