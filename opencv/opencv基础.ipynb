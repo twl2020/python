{
 "cells": [
  {
   "metadata": {
    "ExecuteTime": {
     "end_time": "2025-06-25T08:05:30.127901Z",
     "start_time": "2025-06-25T08:05:26.260418Z"
    }
   },
   "cell_type": "code",
   "source": [
    "## 安装cv2库\n",
    "!pip install opencv-python\n"
   ],
   "id": "80a3c7745a3bc",
   "outputs": [
    {
     "name": "stdout",
     "output_type": "stream",
     "text": [
      "Collecting opencv-python\n",
      "  Downloading opencv_python-4.11.0.86-cp37-abi3-win_amd64.whl.metadata (20 kB)\n",
      "Requirement already satisfied: numpy>=1.21.2 in c:\\users\\twl\\miniconda3\\envs\\py311\\lib\\site-packages (from opencv-python) (2.3.1)\n",
      "Downloading opencv_python-4.11.0.86-cp37-abi3-win_amd64.whl (39.5 MB)\n",
      "   ---------------------------------------- 0.0/39.5 MB ? eta -:--:--\n",
      "    --------------------------------------- 0.5/39.5 MB 5.6 MB/s eta 0:00:07\n",
      "   ----------- ---------------------------- 11.8/39.5 MB 40.9 MB/s eta 0:00:01\n",
      "   ----------------------- ---------------- 23.1/39.5 MB 45.6 MB/s eta 0:00:01\n",
      "   ------------------------------------- -- 37.0/39.5 MB 52.1 MB/s eta 0:00:01\n",
      "   ---------------------------------------- 39.5/39.5 MB 43.2 MB/s eta 0:00:00\n",
      "Installing collected packages: opencv-python\n",
      "Successfully installed opencv-python-4.11.0.86\n"
     ]
    }
   ],
   "execution_count": 1
  },
  {
   "metadata": {
    "ExecuteTime": {
     "end_time": "2025-06-25T08:05:49.807079Z",
     "start_time": "2025-06-25T08:05:48.897365Z"
    }
   },
   "cell_type": "code",
   "source": "import cv2\n",
   "id": "3067e9f34466c7e1",
   "outputs": [],
   "execution_count": 2
  },
  {
   "metadata": {
    "ExecuteTime": {
     "end_time": "2025-06-25T08:06:34.643562Z",
     "start_time": "2025-06-25T08:06:34.639059Z"
    }
   },
   "cell_type": "code",
   "source": [
    "# 读取图片\n",
    "img = cv2.imread('t3.jpg')\n"
   ],
   "id": "f69a1493e830d8d0",
   "outputs": [],
   "execution_count": 8
  },
  {
   "metadata": {
    "ExecuteTime": {
     "end_time": "2025-06-25T08:06:40.563201Z",
     "start_time": "2025-06-25T08:06:40.560200Z"
    }
   },
   "cell_type": "code",
   "source": [
    "# 显示图片\n",
    "cv2.imshow('image', img)\n"
   ],
   "id": "ecfd52a0b7ed6be1",
   "outputs": [],
   "execution_count": 11
  },
  {
   "metadata": {
    "jupyter": {
     "is_executing": true
    },
    "ExecuteTime": {
     "start_time": "2025-06-25T08:06:41.955698Z"
    }
   },
   "cell_type": "code",
   "source": [
    "# 等待按键输入\n",
    "cv2.waitKey(0)\n"
   ],
   "id": "62aa15f0c05e9416",
   "outputs": [],
   "execution_count": null
  },
  {
   "metadata": {
    "ExecuteTime": {
     "end_time": "2025-06-25T08:05:59.324728Z",
     "start_time": "2025-06-25T08:05:59.321628Z"
    }
   },
   "cell_type": "code",
   "source": [
    "# 销毁窗口\n",
    "cv2.destroyAllWindows()"
   ],
   "id": "b4f0150e6c0ab72e",
   "outputs": [],
   "execution_count": 6
  }
 ],
 "metadata": {
  "kernelspec": {
   "display_name": "Python 3",
   "language": "python",
   "name": "python3"
  },
  "language_info": {
   "codemirror_mode": {
    "name": "ipython",
    "version": 2
   },
   "file_extension": ".py",
   "mimetype": "text/x-python",
   "name": "python",
   "nbconvert_exporter": "python",
   "pygments_lexer": "ipython2",
   "version": "2.7.6"
  }
 },
 "nbformat": 4,
 "nbformat_minor": 5
}
