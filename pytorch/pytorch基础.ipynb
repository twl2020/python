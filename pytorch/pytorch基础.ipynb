{
 "cells": [
  {
   "metadata": {},
   "cell_type": "markdown",
   "source": [
    "## pytorch详解\n",
    "# 1，安装pytorch\n",
    "    1.1.1，安装cuda\n",
    "        1.1.1.1，下载cuda https://developer.nvidia.com/cuda-downloads\n",
    "        1.1.1.2，安装cuda\n",
    "    1.1.2，安装cudnn\n",
    "        1.1.2.1，下载cudnn https://developer.nvidia.com/rdp/cudnn-download\n",
    "        1.1.2.2，安装cudnn\n",
    "    1.1.3，安装pytorch\n",
    "        1.1.3.1，下载pytorch # pip3 install torch torchvision torchaudio --index-url https://download.pytorch.org/whl/cu128\n",
    "    1.1.4，验证pytorch安装成功\n",
    "    1.1.5，卸载cuda\n",
    "    1.1.6，卸载cudnn\n",
    "    1.1.7，卸载pytorch\n",
    "    1.1.8，安装多个版本的pytorch\n",
    "    1.1.9，安装多个版本的cuda\n",
    "    1.1.10，安装多个版本的cudnn\n",
    "    1.1.11，安装多个版本的pytorch\n",
    "    1.1.12. PyTorch 自带 cuDNN，但系统安装的 cuDNN 会优先被调用\n",
    "# 2，tensor的概念\n",
    "# 3，tensor的运算\n",
    "# 4，神经网络的概念\n",
    "# 5，pytorch的神经网络模块\n",
    "# 6，pytorch的自动求导机制\n",
    "# 7，pytorch的训练过程"
   ],
   "id": "be9d27e3eb051fc9"
  }
 ],
 "metadata": {
  "kernelspec": {
   "display_name": "Python 3",
   "language": "python",
   "name": "python3"
  },
  "language_info": {
   "codemirror_mode": {
    "name": "ipython",
    "version": 2
   },
   "file_extension": ".py",
   "mimetype": "text/x-python",
   "name": "python",
   "nbconvert_exporter": "python",
   "pygments_lexer": "ipython2",
   "version": "2.7.6"
  }
 },
 "nbformat": 4,
 "nbformat_minor": 5
}
